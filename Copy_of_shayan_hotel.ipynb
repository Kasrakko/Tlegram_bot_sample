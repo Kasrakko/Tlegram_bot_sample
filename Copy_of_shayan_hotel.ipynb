{
  "cells": [
    {
      "cell_type": "markdown",
      "metadata": {
        "id": "view-in-github",
        "colab_type": "text"
      },
      "source": [
        "<a href=\"https://colab.research.google.com/github/Kasrakko/Tlegram_bot_sample/blob/main/Copy_of_shayan_hotel.ipynb\" target=\"_parent\"><img src=\"https://colab.research.google.com/assets/colab-badge.svg\" alt=\"Open In Colab\"/></a>"
      ]
    },
    {
      "cell_type": "markdown",
      "metadata": {
        "id": "Sqs6HAmN0KBE"
      },
      "source": [
        "# Install the `python-telegram-bot`"
      ]
    },
    {
      "cell_type": "code",
      "execution_count": null,
      "metadata": {
        "colab": {
          "base_uri": "https://localhost:8080/"
        },
        "id": "gK0ihXxTHT_7",
        "outputId": "766a7b9f-efae-41b8-982a-5d65378ea2fc"
      },
      "outputs": [
        {
          "output_type": "stream",
          "name": "stdout",
          "text": [
            "Requirement already satisfied: nest_asyncio in /usr/local/lib/python3.10/dist-packages (1.5.8)\n"
          ]
        }
      ],
      "source": [
        "pip install nest_asyncio\n"
      ]
    },
    {
      "cell_type": "code",
      "execution_count": null,
      "metadata": {
        "colab": {
          "base_uri": "https://localhost:8080/"
        },
        "id": "rc8UzGcfzPbs",
        "outputId": "4d07c4f3-5c2e-4e9d-d2ec-f5ac87efbfd9"
      },
      "outputs": [
        {
          "output_type": "stream",
          "name": "stdout",
          "text": [
            "Collecting python-telegram-bot\n",
            "  Downloading python_telegram_bot-20.6-py3-none-any.whl (548 kB)\n",
            "\u001b[2K     \u001b[90m━━━━━━━━━━━━━━━━━━━━━━━━━━━━━━━━━━━━━━━\u001b[0m \u001b[32m548.5/548.5 kB\u001b[0m \u001b[31m7.0 MB/s\u001b[0m eta \u001b[36m0:00:00\u001b[0m\n",
            "\u001b[?25hCollecting httpx~=0.25.0 (from python-telegram-bot)\n",
            "  Downloading httpx-0.25.0-py3-none-any.whl (75 kB)\n",
            "\u001b[2K     \u001b[90m━━━━━━━━━━━━━━━━━━━━━━━━━━━━━━━━━━━━━━━━\u001b[0m \u001b[32m75.7/75.7 kB\u001b[0m \u001b[31m10.7 MB/s\u001b[0m eta \u001b[36m0:00:00\u001b[0m\n",
            "\u001b[?25hRequirement already satisfied: certifi in /usr/local/lib/python3.10/dist-packages (from httpx~=0.25.0->python-telegram-bot) (2023.7.22)\n",
            "Collecting httpcore<0.19.0,>=0.18.0 (from httpx~=0.25.0->python-telegram-bot)\n",
            "  Downloading httpcore-0.18.0-py3-none-any.whl (76 kB)\n",
            "\u001b[2K     \u001b[90m━━━━━━━━━━━━━━━━━━━━━━━━━━━━━━━━━━━━━━━━\u001b[0m \u001b[32m76.0/76.0 kB\u001b[0m \u001b[31m9.9 MB/s\u001b[0m eta \u001b[36m0:00:00\u001b[0m\n",
            "\u001b[?25hRequirement already satisfied: idna in /usr/local/lib/python3.10/dist-packages (from httpx~=0.25.0->python-telegram-bot) (3.4)\n",
            "Requirement already satisfied: sniffio in /usr/local/lib/python3.10/dist-packages (from httpx~=0.25.0->python-telegram-bot) (1.3.0)\n",
            "Requirement already satisfied: anyio<5.0,>=3.0 in /usr/local/lib/python3.10/dist-packages (from httpcore<0.19.0,>=0.18.0->httpx~=0.25.0->python-telegram-bot) (3.7.1)\n",
            "Collecting h11<0.15,>=0.13 (from httpcore<0.19.0,>=0.18.0->httpx~=0.25.0->python-telegram-bot)\n",
            "  Downloading h11-0.14.0-py3-none-any.whl (58 kB)\n",
            "\u001b[2K     \u001b[90m━━━━━━━━━━━━━━━━━━━━━━━━━━━━━━━━━━━━━━━━\u001b[0m \u001b[32m58.3/58.3 kB\u001b[0m \u001b[31m8.2 MB/s\u001b[0m eta \u001b[36m0:00:00\u001b[0m\n",
            "\u001b[?25hRequirement already satisfied: exceptiongroup in /usr/local/lib/python3.10/dist-packages (from anyio<5.0,>=3.0->httpcore<0.19.0,>=0.18.0->httpx~=0.25.0->python-telegram-bot) (1.1.3)\n",
            "Installing collected packages: h11, httpcore, httpx, python-telegram-bot\n",
            "Successfully installed h11-0.14.0 httpcore-0.18.0 httpx-0.25.0 python-telegram-bot-20.6\n"
          ]
        }
      ],
      "source": [
        "pip install python-telegram-bot"
      ]
    },
    {
      "cell_type": "markdown",
      "metadata": {
        "id": "B5ijXJjY0Rl8"
      },
      "source": [
        "# Import the modules"
      ]
    },
    {
      "cell_type": "code",
      "execution_count": null,
      "metadata": {
        "id": "VpLk3wmPyzaC"
      },
      "outputs": [],
      "source": [
        "from telegram import Update, InlineKeyboardButton, InlineKeyboardMarkup, InlineQueryResultsButton\n",
        "from telegram.ext import Updater, Application, CommandHandler, MessageHandler, filters, ContextTypes, CallbackContext, CallbackQueryHandler, ConversationHandler"
      ]
    },
    {
      "cell_type": "code",
      "execution_count": null,
      "metadata": {
        "id": "yJ_HPxtQzKgE"
      },
      "outputs": [],
      "source": [
        "from typing import Final"
      ]
    },
    {
      "cell_type": "code",
      "execution_count": null,
      "metadata": {
        "id": "pQjUCWg6z6C7"
      },
      "outputs": [],
      "source": [
        "import numpy as np\n",
        "import pandas as pd\n",
        "import matplotlib.pyplot as plt\n",
        "import openpyxl as pyxl"
      ]
    },
    {
      "cell_type": "code",
      "execution_count": null,
      "metadata": {
        "id": "hmAzKvPmHZ77"
      },
      "outputs": [],
      "source": [
        "import nest_asyncio\n",
        "nest_asyncio.apply()"
      ]
    },
    {
      "cell_type": "markdown",
      "metadata": {
        "id": "H3Xdwyfk0VZ7"
      },
      "source": [
        "# Define our token and bot userName"
      ]
    },
    {
      "cell_type": "code",
      "execution_count": null,
      "metadata": {
        "id": "NvlTF2SH0I57"
      },
      "outputs": [],
      "source": [
        "TOKEN: Final = '6605459304:AAE_FAeaBEhUYBb7H1ca8V-7Bsc00syFUFw'\n",
        "BOT_USERNAME: Final = '@HotelShayanBookingBot'"
      ]
    },
    {
      "cell_type": "markdown",
      "metadata": {
        "id": "jbgnx7eA00bM"
      },
      "source": [
        "# Start coding"
      ]
    },
    {
      "cell_type": "markdown",
      "metadata": {
        "id": "pJiYIEdH04vM"
      },
      "source": [
        "## Start by creating command while someone start our bot our tag it in groups"
      ]
    },
    {
      "cell_type": "code",
      "execution_count": null,
      "metadata": {
        "id": "Y9_-QB6Y1E2c"
      },
      "outputs": [],
      "source": [
        "# Start command function\n",
        "app = Application.builder().token(TOKEN).build()\n",
        "#async def start_command(update: Update, context: ContextTypes.DEFAULT_TYPE):\n",
        "#  await update.message.reply_text('Hello, thanks for choosing our hotel. For book a room press the book_room command')\n",
        "\n",
        "async def start_command(update: Update, context: ContextTypes.DEFAULT_TYPE):\n",
        "    keyboard = [\n",
        "        [\n",
        "            InlineKeyboardButton(\"About us\", 'https://shayan-hotel.com'),\n",
        "        ]\n",
        "      ]\n",
        "\n",
        "    reply_markup = InlineKeyboardMarkup(keyboard)\n",
        "    await update.message.reply_text(\"Hello.\\nThanks for choosing us.\\nFor about us click `About us`.\\nFor book room use `/Book_room`\",\n",
        "                                    reply_markup=reply_markup)\n",
        "    return START_ROUTES"
      ]
    },
    {
      "cell_type": "code",
      "execution_count": null,
      "metadata": {
        "id": "fhYFXdcg7G6E"
      },
      "outputs": [],
      "source": [
        "ROOM = [\n",
        "    'double_sea_view', 'double_city_view', 'double_sea_view_royal',\n",
        "    'triple_sea_vie', 'triple_city_view',\n",
        "    'fourBed_doublex_sea_view', 'fourBed_standard',\n",
        "]\n",
        "\n",
        "CABANA = [\n",
        "    'double_garden', 'double_standard', 'double_garden_royal',\n",
        "    'fourBed_garden', 'fourBed_standard',\n",
        "    'triple_standard', 'triple_garden',\n",
        "    'seaSide_villa'\n",
        "]\n",
        "\n",
        "SUITE = [\n",
        "    'single_room_fourBed',\n",
        "    'double_room_fourBed',\n",
        "    'doublex_fourBed_royal'\n",
        "]"
      ]
    },
    {
      "cell_type": "code",
      "execution_count": null,
      "metadata": {
        "id": "5GCpf6mWr3QG"
      },
      "outputs": [],
      "source": [
        "# Booking_room command function\n",
        "\n",
        "async def book_room_command(update: Update, context: ContextTypes.DEFAULT_TYPE):\n",
        "    keyboard = [\n",
        "        [\n",
        "            InlineKeyboardButton(\"دو تخنه ديد دريا\", callback_data=str(ROOM[0]))\n",
        "        ],\n",
        "        [\n",
        "            InlineKeyboardButton(\"دو تخنه ديد شهر\", callback_data=str(ROOM[1]))\n",
        "        ],\n",
        "        [\n",
        "            InlineKeyboardButton(\"دو تخنه رويال\", callback_data=str(ROOM[2]))\n",
        "        ],\n",
        "        [\n",
        "            InlineKeyboardButton(\"سه تخته ديد دريا\", callback_data=str(ROOM[3]))\n",
        "        ],\n",
        "        [\n",
        "            InlineKeyboardButton(\"سه تخته ديد شهر\", callback_data=str(ROOM[4]))\n",
        "        ],\n",
        "        [\n",
        "            InlineKeyboardButton(\"چهار تخته دوبلكس ديد دريا\", callback_data=str(ROOM[5]))\n",
        "        ],\n",
        "        [\n",
        "            InlineKeyboardButton(\"چهار تخته استاندارد\", callback_data=str(ROOM[6])),\n",
        "        ],\n",
        "        [\n",
        "            InlineKeyboardButton(\"سوئيت\", callback_data='suite'),\n",
        "        ],\n",
        "        [\n",
        "            InlineKeyboardButton(\"كابانا\", callback_data='cabana'),\n",
        "        ]\n",
        "      ]\n",
        "\n",
        "    reply_markup = InlineKeyboardMarkup(keyboard)\n",
        "\n",
        "    await update.message.reply_text (\"Very well. Now let me know what kind of room are you looking from below:\",\n",
        "                                   reply_markup=reply_markup)\n",
        "    #print(update.CHOSEN_INLINE_RESULT)\n",
        "    return START_ROUTES"
      ]
    },
    {
      "cell_type": "code",
      "execution_count": null,
      "metadata": {
        "id": "h3VxKEI8rjvP"
      },
      "outputs": [],
      "source": [
        "# Button controller\n",
        "async def room_selection_button(update: Update, context: ContextTypes.DEFAULT_TYPE) -> str:\n",
        "    \"\"\"Parses the CallbackQuery and updates the message text.\"\"\"\n",
        "    query = update.callback_query\n",
        "    await query.answer()\n",
        "    USER_SELECTED_DATA = ''\n",
        "\n",
        "    # Choosing any of rooms\n",
        "    for room in ROOM:\n",
        "      if room in query.data:\n",
        "        keyboard = [\n",
        "          [\n",
        "              InlineKeyboardButton(\"Reserve\", callback_data=f'{query.data} + reserve')\n",
        "          ],\n",
        "          [\n",
        "              InlineKeyboardButton(\"pic\", callback_data='pic'),\n",
        "          ],\n",
        "        ]\n",
        "        reply_markup = InlineKeyboardMarkup(keyboard)\n",
        "        await query.edit_message_text (f\"Selected option:\\t {query.data}\\n\\nThe price of this room is $$$$$\\nChoose what you want to do\",\n",
        "                                  reply_markup=reply_markup)\n",
        "    if 'reserve' in query.data:\n",
        "      get_user_path(query.from_user.id, query.data)\n",
        "      await query.edit_message_text (f\"Selected option:\\t {query.data}\\n\\nEnter ypu data by this order:\\n full_name, age, date_of_checkIn, date_of_checkOut, days of stayed\\n dont forget to use ',' \")\n",
        "\n",
        "    # Choosing cabana\n",
        "    if query.data == str('cabana'):\n",
        "      keyboard = [\n",
        "        [\n",
        "            InlineKeyboardButton(\"دو تخته ديد باغ\", callback_data=f'{query.data} + {CABANA[0]}')\n",
        "        ],\n",
        "        [\n",
        "            InlineKeyboardButton(\"دو تخته ديد محوطه\", callback_data=f'{query.data} + {CABANA[1]}')\n",
        "        ],\n",
        "        [\n",
        "            InlineKeyboardButton(\"دو تخته ديد رويال\", callback_data=f'{query.data} + {CABANA[2]}')\n",
        "        ],\n",
        "        [\n",
        "            InlineKeyboardButton(\"سه تخته ديد باغ\", callback_data=f'{query.data} + {CABANA[5]}')\n",
        "        ],\n",
        "        [\n",
        "            InlineKeyboardButton(\"سه تخته ديد محوطه\", callback_data=f'{query.data} + {CABANA[6]}')\n",
        "        ],\n",
        "        [\n",
        "            InlineKeyboardButton(\"چهار تخته ديد باغ\", callback_data=f'{query.data} + {CABANA[4]}')\n",
        "        ],\n",
        "        [\n",
        "            InlineKeyboardButton(\"چهار تخته ديد محوطه\", callback_data=f'{query.data} + {CABANA[3]}')\n",
        "        ],\n",
        "        [\n",
        "            InlineKeyboardButton(\"ويلاي ساحلي داخل محوطه\", callback_data=f'{query.data} + {CABANA[7]}')\n",
        "        ],\n",
        "      ]\n",
        "      reply_markup = InlineKeyboardMarkup(keyboard)\n",
        "      await query.edit_message_text (f\"Selected option:\\t {query.data}\\n\\nThe price of this room is $$$$$\\nChoose what you want to do\",\n",
        "                                  reply_markup=reply_markup)\n",
        "      USER_SELECTED_DATA = query.data\n",
        "\n",
        "    # Choosing suite\n",
        "    elif query.data == str('suite'):\n",
        "      keyboard = [\n",
        "        [\n",
        "            InlineKeyboardButton(\"يك خواب چهار تخته\", callback_data=f'{query.data} + {SUITE[0]}')\n",
        "        ],\n",
        "        [\n",
        "            InlineKeyboardButton(\"دو خواب چهار تخته\", callback_data=f'{query.data} + {SUITE[1]}'),\n",
        "        ],\n",
        "        [\n",
        "            InlineKeyboardButton(\"رويال سوييت دوبلكس دو خواب چهار تخته\", callback_data=f'{query.data} + {SUITE[2]}')\n",
        "        ],\n",
        "      ]\n",
        "      reply_markup = InlineKeyboardMarkup(keyboard)\n",
        "      await query.edit_message_text (f\"Selected option:\\t {query.data}\\n\\nNow, choose the room that you are looking for\",\n",
        "                                    reply_markup=reply_markup)\n",
        "      USER_SELECTED_DATA = query.data\n",
        "\n",
        "    for suite in SUITE:\n",
        "      if suite in query.data:\n",
        "        keyboard = [\n",
        "          [\n",
        "              InlineKeyboardButton(\"Reserve\", callback_data=f'{query.data} + reserve')\n",
        "          ],\n",
        "          [\n",
        "              InlineKeyboardButton(\"pic\", callback_data='pic'),\n",
        "          ],\n",
        "        ]\n",
        "        reply_markup = InlineKeyboardMarkup(keyboard)\n",
        "        await query.edit_message_text (f\"Selected option:\\t {query.data}\\n\\nThe price of this room is $$$$$\\nChoose what you want to do\",\n",
        "                                  reply_markup=reply_markup)\n",
        "\n",
        "    for cabana in CABANA:\n",
        "      if cabana in query.data:\n",
        "        keyboard = [\n",
        "          [\n",
        "              InlineKeyboardButton(\"Reserve\", callback_data=f'{query.data} + reserve')\n",
        "          ],\n",
        "          [\n",
        "              InlineKeyboardButton(\"pic\", callback_data='pic'),\n",
        "          ],\n",
        "        ]\n",
        "        reply_markup = InlineKeyboardMarkup(keyboard)\n",
        "        await query.edit_message_text (f\"Selected option:\\t {query.data}\\n\\nThe price of this room is $$$$$\\nChoose what you want to do\",\n",
        "                                  reply_markup=reply_markup)\n",
        "\n",
        "    if 'reserve' in query.data:\n",
        "      get_user_path(query.from_user.id, query.data)\n",
        "      await query.edit_message_text (f\"Selected option:\\t {query.data}\\n\\nEnter ypu data by this order:\\n full_name, age, date_of_checkIn, date_of_checkOut, days of stayed\\n dont forget to use ',' \")\n",
        "\n",
        "\n",
        "    #print(f'User: {query.from_user.full_name} with user_id: ({query.from_user.id}) chooses {USER_SELECTED_DATA}')\n",
        "    print(f'User: {query.from_user.full_name} with user_id: ({query.from_user.id}) chooses {query.data}')\n",
        "    get_user_path(query.from_user.id, query.data)"
      ]
    },
    {
      "cell_type": "code",
      "execution_count": null,
      "metadata": {
        "id": "SPZgq58ksLBg"
      },
      "outputs": [],
      "source": [
        "# Creating a few functions to handle user data to tarck their acctivities and also gather data for the reservation part\n",
        "TARGET_PATH = list()\n",
        "def get_user_path (USER_ID, PATH):\n",
        "  user_path = dict()\n",
        "  user_path['user_id'] = USER_ID\n",
        "  user_path['path'] = PATH\n",
        "  PATH = user_path['path']\n",
        "  if PATH in TARGET_PATH:\n",
        "    return PATH\n",
        "  else:\n",
        "    TARGET_PATH.append(PATH)\n",
        "    return user_path['path']"
      ]
    },
    {
      "cell_type": "code",
      "execution_count": null,
      "metadata": {
        "id": "2wrninBJvkEE"
      },
      "outputs": [],
      "source": [
        "user_data = dict()\n",
        "def get_user_data_for_reserve (data: str, room_data: str):\n",
        "  fields = list()\n",
        "\n",
        "  for i in data.split(','):\n",
        "    fields.append(i.strip())\n",
        "\n",
        "  if len(fields) == 5:\n",
        "    user_data['full_name'] = fields[0]\n",
        "    user_data['ID_NUM'] = fields[1]\n",
        "    user_data['Room_data'] = room_data\n",
        "    user_data['Date_of_checkIn'] = fields[2]\n",
        "    user_data['Date_of_checkOut'] = fields[3]\n",
        "    user_data['Dayas_of_stay'] = fields[4]\n",
        "    return user_data\n",
        "  else:\n",
        "    return 'one or more part missed'"
      ]
    },
    {
      "cell_type": "code",
      "execution_count": null,
      "metadata": {
        "id": "2guJO_FkRrNo"
      },
      "outputs": [],
      "source": [
        "order_number = 1000\n",
        "row_pos = 2\n",
        "def addDataToExcelFile(inputDic : dict):\n",
        "  global order_number, row_pos\n",
        "  wb = pyxl.load_workbook('HOTEL BOT.xlsx')\n",
        "\n",
        "  ws = wb['Sheet1']\n",
        "\n",
        "  ws[\"A\"+str(row_pos)].value = str(order_number)\n",
        "  ws[\"B\"+str(row_pos)].value = str(inputDic['full_name'])\n",
        "  ws[\"C\"+str(row_pos)].value = str(inputDic['ID_NUM'])\n",
        "  ws[\"D\"+str(row_pos)].value = str(inputDic['Dayas_of_stay'])\n",
        "  ws[\"E\"+str(row_pos)].value = str(inputDic['Date_of_checkIn'])\n",
        "  ws[\"F\"+str(row_pos)].value = str(inputDic['Date_of_checkOut'])\n",
        "  ws[\"g\"+str(row_pos)].value = str(inputDic['Room_data'])\n",
        "  row_pos = row_pos + 1\n",
        "  order_number = order_number + 1\n",
        "  wb.save('HOTEL BOT.xlsx')\n",
        "  print('\\nYour data added to excel file successfully\\n')\n",
        "  #inputDic['price']\n",
        "  #inputDic['Count_of_rooms']"
      ]
    },
    {
      "cell_type": "code",
      "execution_count": null,
      "metadata": {
        "id": "2wGF0p8z1Eyc"
      },
      "outputs": [],
      "source": [
        "def handle_response(text: str) -> str:\n",
        "  answer: str = text.lower()\n",
        "  if ',' in answer:\n",
        "    FINAL_DATA = get_user_data_for_reserve(answer, TARGET_PATH[-1]).copy()\n",
        "    addDataToExcelFile(FINAL_DATA)\n",
        "    print(f'the final data that added to exel file are:\\n{FINAL_DATA}')\n",
        "    return 'great '\n",
        "\n",
        "  else:\n",
        "    return 'you didnt use \",\" at the end of your data'"
      ]
    },
    {
      "cell_type": "code",
      "execution_count": null,
      "metadata": {
        "id": "vakXO2Z51EwU"
      },
      "outputs": [],
      "source": [
        "async def handle_message(update:Update, context: ContextTypes.DEFAULT_TYPE):\n",
        "  message_type: str = update.message.chat.type\n",
        "  text: str = update.message.text\n",
        "\n",
        "  print(f'User ({update.message.chat.id}) in {message_type}: \"{text}\"')\n",
        "\n",
        "  if message_type == 'group':\n",
        "    if BOT_USERNAME in text:\n",
        "      new_text: str = text.replace(BOT_USERNAME, '').strip()\n",
        "      response: str = handle_response(new_text)\n",
        "    else:\n",
        "      return\n",
        "  else:\n",
        "    response: str = handle_response(text)\n",
        "\n",
        "  print(response)\n",
        "  await update.message.reply_text(response)"
      ]
    },
    {
      "cell_type": "code",
      "execution_count": null,
      "metadata": {
        "id": "2j2oUOGN9hUP"
      },
      "outputs": [],
      "source": [
        "async def error(update:Update, context: ContextTypes.DEFAULT_TYPE):\n",
        "  print(f'Update {update} caused error {context.error}')"
      ]
    },
    {
      "cell_type": "code",
      "execution_count": null,
      "metadata": {
        "colab": {
          "base_uri": "https://localhost:8080/",
          "height": 1000
        },
        "id": "1tCV0ZZGaESK",
        "outputId": "a57d7f88-8613-4f1e-b5bf-b573a6552c89"
      },
      "outputs": [
        {
          "output_type": "stream",
          "name": "stdout",
          "text": [
            "Starting bot...\n",
            "polling...\n",
            "User: kasra with user_id: (690614179) chooses cabana\n",
            "Update Update(callback_query=CallbackQuery(chat_instance='-3534416822836224284', data='cabana + fourBed_standard', from_user=User(first_name='kasra', id=690614179, is_bot=False, language_code='en'), id='2966165316326219137', message=Message(channel_chat_created=False, chat=Chat(first_name='kasra', id=690614179, type=<ChatType.PRIVATE>), date=datetime.datetime(2023, 10, 5, 11, 3, 43, tzinfo=<UTC>), delete_chat_photo=False, edit_date=datetime.datetime(2023, 10, 5, 11, 3, 45, tzinfo=<UTC>), from_user=User(first_name='HotelShayan', id=6605459304, is_bot=True, username='HotelShayanBookingBot'), group_chat_created=False, message_id=918, reply_markup=InlineKeyboardMarkup(inline_keyboard=((InlineKeyboardButton(callback_data='cabana + double_garden', text='دو تخته ديد باغ'),), (InlineKeyboardButton(callback_data='cabana + double_standard', text='دو تخته ديد محوطه'),), (InlineKeyboardButton(callback_data='cabana + double_garden_royal', text='دو تخته ديد رويال'),), (InlineKeyboardButton(callback_data='cabana + triple_standard', text='سه تخته ديد باغ'),), (InlineKeyboardButton(callback_data='cabana + triple_garden', text='سه تخته ديد محوطه'),), (InlineKeyboardButton(callback_data='cabana + fourBed_standard', text='چهار تخته ديد باغ'),), (InlineKeyboardButton(callback_data='cabana + fourBed_garden', text='چهار تخته ديد محوطه'),), (InlineKeyboardButton(callback_data='cabana + seaSide_villa', text='ويلاي ساحلي داخل محوطه'),))), supergroup_chat_created=False, text='Selected option:  cabana\\n\\nThe price of this room is $$$$$\\nChoose what you want to do')), update_id=708678462) caused error Message is not modified: specified new message content and reply markup are exactly the same as a current content and reply markup of the message\n",
            "User: kasra with user_id: (690614179) chooses cabana\n",
            "User: kasra with user_id: (690614179) chooses cabana + seaSide_villa\n",
            "User: kasra with user_id: (690614179) chooses cabana + seaSide_villa + reserve\n",
            "User (690614179) in private: \"kasra Soleymani, 0024006750, 1402/07/05, 1402/07/08, 3\"\n",
            "\n",
            "Your data added to excel file successfully\n",
            "\n",
            "the final data that added to exel file are:\n",
            "{'full_name': 'kasra soleymani', 'ID_NUM': '0024006750', 'Room_data': 'cabana + seaSide_villa + reserve', 'Date_of_checkIn': '1402/07/05', 'Date_of_checkOut': '1402/07/08', 'Dayas_of_stay': '3'}\n",
            "great \n",
            "User: k with user_id: (70123913) chooses suite\n",
            "User: k with user_id: (70123913) chooses suite + double_room_fourBed\n",
            "User: k with user_id: (70123913) chooses suite + double_room_fourBed + reserve\n",
            "User (70123913) in private: \"Sajad Naderzadeh, 99162663, 1402/07/13, 1402/07/19, 6\"\n",
            "\n",
            "Your data added to excel file successfully\n",
            "\n",
            "the final data that added to exel file are:\n",
            "{'full_name': 'sajad naderzadeh', 'ID_NUM': '99162663', 'Room_data': 'cabana + seaSide_villa + reserve', 'Date_of_checkIn': '1402/07/13', 'Date_of_checkOut': '1402/07/19', 'Dayas_of_stay': '6'}\n",
            "great \n",
            "User: Farzad Nazari with user_id: (185171523) chooses double_sea_view\n",
            "User: Farzad Nazari with user_id: (185171523) chooses pic\n",
            "Update Update(callback_query=CallbackQuery(chat_instance='-2105278991870076106', data='double_sea_view + reserve', from_user=User(first_name='Farzad', id=185171523, is_bot=False, language_code='en', last_name='Nazari', username='farzadnazariii'), id='795305637178057159', message=Message(channel_chat_created=False, chat=Chat(first_name='Farzad', id=185171523, last_name='Nazari', type=<ChatType.PRIVATE>, username='farzadnazariii'), date=datetime.datetime(2023, 10, 5, 11, 12, 46, tzinfo=<UTC>), delete_chat_photo=False, edit_date=datetime.datetime(2023, 10, 5, 11, 13, 3, tzinfo=<UTC>), from_user=User(first_name='HotelShayan', id=6605459304, is_bot=True, username='HotelShayanBookingBot'), group_chat_created=False, message_id=930, reply_markup=InlineKeyboardMarkup(inline_keyboard=((InlineKeyboardButton(callback_data='double_sea_view + reserve', text='Reserve'),), (InlineKeyboardButton(callback_data='pic', text='pic'),))), supergroup_chat_created=False, text='Selected option:  double_sea_view\\n\\nThe price of this room is $$$$$\\nChoose what you want to do')), update_id=708678477) caused error Message is not modified: specified new message content and reply markup are exactly the same as a current content and reply markup of the message\n",
            "User (185171523) in private: \"فرزاد نظری,۵۹۳۰۷۴۶,14020712,14020715\"\n",
            "Update Update(message=Message(channel_chat_created=False, chat=Chat(first_name='Farzad', id=185171523, last_name='Nazari', type=<ChatType.PRIVATE>, username='farzadnazariii'), date=datetime.datetime(2023, 10, 5, 11, 14, 51, tzinfo=<UTC>), delete_chat_photo=False, from_user=User(first_name='Farzad', id=185171523, is_bot=False, language_code='en', last_name='Nazari', username='farzadnazariii'), group_chat_created=False, message_id=931, supergroup_chat_created=False, text='فرزاد نظری,۵۹۳۰۷۴۶,14020712,14020715'), update_id=708678478) caused error 'str' object has no attribute 'copy'\n",
            "User (185171523) in private: \"فرزاد نظری,۵۹۳۰۷۴۶,14020712,14020715,3\"\n",
            "\n",
            "Your data added to excel file successfully\n",
            "\n",
            "the final data that added to exel file are:\n",
            "{'full_name': 'فرزاد نظری', 'ID_NUM': '۵۹۳۰۷۴۶', 'Room_data': 'pic', 'Date_of_checkIn': '14020712', 'Date_of_checkOut': '14020715', 'Dayas_of_stay': '3'}\n",
            "great \n"
          ]
        },
        {
          "output_type": "error",
          "ename": "RuntimeError",
          "evalue": "ignored",
          "traceback": [
            "\u001b[0;31m---------------------------------------------------------------------------\u001b[0m",
            "\u001b[0;31mRuntimeError\u001b[0m                              Traceback (most recent call last)",
            "\u001b[0;32m<ipython-input-121-3e5426cc959a>\u001b[0m in \u001b[0;36m<cell line: 2>\u001b[0;34m()\u001b[0m\n\u001b[1;32m     18\u001b[0m   \u001b[0mprint\u001b[0m\u001b[0;34m(\u001b[0m\u001b[0;34m'polling...'\u001b[0m\u001b[0;34m)\u001b[0m\u001b[0;34m\u001b[0m\u001b[0;34m\u001b[0m\u001b[0m\n\u001b[1;32m     19\u001b[0m \u001b[0;34m\u001b[0m\u001b[0m\n\u001b[0;32m---> 20\u001b[0;31m   \u001b[0mapp\u001b[0m\u001b[0;34m.\u001b[0m\u001b[0mrun_polling\u001b[0m\u001b[0;34m(\u001b[0m\u001b[0;34m)\u001b[0m\u001b[0;34m\u001b[0m\u001b[0;34m\u001b[0m\u001b[0m\n\u001b[0m",
            "\u001b[0;32m/usr/local/lib/python3.10/dist-packages/telegram/ext/_application.py\u001b[0m in \u001b[0;36mrun_polling\u001b[0;34m(self, poll_interval, timeout, bootstrap_retries, read_timeout, write_timeout, connect_timeout, pool_timeout, allowed_updates, drop_pending_updates, close_loop, stop_signals)\u001b[0m\n\u001b[1;32m    777\u001b[0m             \u001b[0mself\u001b[0m\u001b[0;34m.\u001b[0m\u001b[0mcreate_task\u001b[0m\u001b[0;34m(\u001b[0m\u001b[0mself\u001b[0m\u001b[0;34m.\u001b[0m\u001b[0mprocess_error\u001b[0m\u001b[0;34m(\u001b[0m\u001b[0merror\u001b[0m\u001b[0;34m=\u001b[0m\u001b[0mexc\u001b[0m\u001b[0;34m,\u001b[0m \u001b[0mupdate\u001b[0m\u001b[0;34m=\u001b[0m\u001b[0;32mNone\u001b[0m\u001b[0;34m)\u001b[0m\u001b[0;34m)\u001b[0m\u001b[0;34m\u001b[0m\u001b[0;34m\u001b[0m\u001b[0m\n\u001b[1;32m    778\u001b[0m \u001b[0;34m\u001b[0m\u001b[0m\n\u001b[0;32m--> 779\u001b[0;31m         return self.__run(\n\u001b[0m\u001b[1;32m    780\u001b[0m             updater_coroutine=self.updater.start_polling(\n\u001b[1;32m    781\u001b[0m                 \u001b[0mpoll_interval\u001b[0m\u001b[0;34m=\u001b[0m\u001b[0mpoll_interval\u001b[0m\u001b[0;34m,\u001b[0m\u001b[0;34m\u001b[0m\u001b[0;34m\u001b[0m\u001b[0m\n",
            "\u001b[0;32m/usr/local/lib/python3.10/dist-packages/telegram/ext/_application.py\u001b[0m in \u001b[0;36m__run\u001b[0;34m(self, updater_coroutine, stop_signals, close_loop)\u001b[0m\n\u001b[1;32m    981\u001b[0m             \u001b[0;32mfinally\u001b[0m\u001b[0;34m:\u001b[0m\u001b[0;34m\u001b[0m\u001b[0;34m\u001b[0m\u001b[0m\n\u001b[1;32m    982\u001b[0m                 \u001b[0;32mif\u001b[0m \u001b[0mclose_loop\u001b[0m\u001b[0;34m:\u001b[0m\u001b[0;34m\u001b[0m\u001b[0;34m\u001b[0m\u001b[0m\n\u001b[0;32m--> 983\u001b[0;31m                     \u001b[0mloop\u001b[0m\u001b[0;34m.\u001b[0m\u001b[0mclose\u001b[0m\u001b[0;34m(\u001b[0m\u001b[0;34m)\u001b[0m\u001b[0;34m\u001b[0m\u001b[0;34m\u001b[0m\u001b[0m\n\u001b[0m\u001b[1;32m    984\u001b[0m \u001b[0;34m\u001b[0m\u001b[0m\n\u001b[1;32m    985\u001b[0m     def create_task(\n",
            "\u001b[0;32m/usr/lib/python3.10/asyncio/unix_events.py\u001b[0m in \u001b[0;36mclose\u001b[0;34m(self)\u001b[0m\n\u001b[1;32m     66\u001b[0m \u001b[0;34m\u001b[0m\u001b[0m\n\u001b[1;32m     67\u001b[0m     \u001b[0;32mdef\u001b[0m \u001b[0mclose\u001b[0m\u001b[0;34m(\u001b[0m\u001b[0mself\u001b[0m\u001b[0;34m)\u001b[0m\u001b[0;34m:\u001b[0m\u001b[0;34m\u001b[0m\u001b[0;34m\u001b[0m\u001b[0m\n\u001b[0;32m---> 68\u001b[0;31m         \u001b[0msuper\u001b[0m\u001b[0;34m(\u001b[0m\u001b[0;34m)\u001b[0m\u001b[0;34m.\u001b[0m\u001b[0mclose\u001b[0m\u001b[0;34m(\u001b[0m\u001b[0;34m)\u001b[0m\u001b[0;34m\u001b[0m\u001b[0;34m\u001b[0m\u001b[0m\n\u001b[0m\u001b[1;32m     69\u001b[0m         \u001b[0;32mif\u001b[0m \u001b[0;32mnot\u001b[0m \u001b[0msys\u001b[0m\u001b[0;34m.\u001b[0m\u001b[0mis_finalizing\u001b[0m\u001b[0;34m(\u001b[0m\u001b[0;34m)\u001b[0m\u001b[0;34m:\u001b[0m\u001b[0;34m\u001b[0m\u001b[0;34m\u001b[0m\u001b[0m\n\u001b[1;32m     70\u001b[0m             \u001b[0;32mfor\u001b[0m \u001b[0msig\u001b[0m \u001b[0;32min\u001b[0m \u001b[0mlist\u001b[0m\u001b[0;34m(\u001b[0m\u001b[0mself\u001b[0m\u001b[0;34m.\u001b[0m\u001b[0m_signal_handlers\u001b[0m\u001b[0;34m)\u001b[0m\u001b[0;34m:\u001b[0m\u001b[0;34m\u001b[0m\u001b[0;34m\u001b[0m\u001b[0m\n",
            "\u001b[0;32m/usr/lib/python3.10/asyncio/selector_events.py\u001b[0m in \u001b[0;36mclose\u001b[0;34m(self)\u001b[0m\n\u001b[1;32m     82\u001b[0m     \u001b[0;32mdef\u001b[0m \u001b[0mclose\u001b[0m\u001b[0;34m(\u001b[0m\u001b[0mself\u001b[0m\u001b[0;34m)\u001b[0m\u001b[0;34m:\u001b[0m\u001b[0;34m\u001b[0m\u001b[0;34m\u001b[0m\u001b[0m\n\u001b[1;32m     83\u001b[0m         \u001b[0;32mif\u001b[0m \u001b[0mself\u001b[0m\u001b[0;34m.\u001b[0m\u001b[0mis_running\u001b[0m\u001b[0;34m(\u001b[0m\u001b[0;34m)\u001b[0m\u001b[0;34m:\u001b[0m\u001b[0;34m\u001b[0m\u001b[0;34m\u001b[0m\u001b[0m\n\u001b[0;32m---> 84\u001b[0;31m             \u001b[0;32mraise\u001b[0m \u001b[0mRuntimeError\u001b[0m\u001b[0;34m(\u001b[0m\u001b[0;34m\"Cannot close a running event loop\"\u001b[0m\u001b[0;34m)\u001b[0m\u001b[0;34m\u001b[0m\u001b[0;34m\u001b[0m\u001b[0m\n\u001b[0m\u001b[1;32m     85\u001b[0m         \u001b[0;32mif\u001b[0m \u001b[0mself\u001b[0m\u001b[0;34m.\u001b[0m\u001b[0mis_closed\u001b[0m\u001b[0;34m(\u001b[0m\u001b[0;34m)\u001b[0m\u001b[0;34m:\u001b[0m\u001b[0;34m\u001b[0m\u001b[0;34m\u001b[0m\u001b[0m\n\u001b[1;32m     86\u001b[0m             \u001b[0;32mreturn\u001b[0m\u001b[0;34m\u001b[0m\u001b[0;34m\u001b[0m\u001b[0m\n",
            "\u001b[0;31mRuntimeError\u001b[0m: Cannot close a running event loop"
          ]
        }
      ],
      "source": [
        "START_ROUTES, END_ROUTES = range(2)\n",
        "if __name__ == '__main__':\n",
        "  print('Starting bot...')\n",
        "  app = Application.builder().token(TOKEN).build()\n",
        "\n",
        "  # Command\n",
        "  app.add_handler(CommandHandler('start', start_command))\n",
        "  app.add_handler(CommandHandler('book_room', book_room_command))\n",
        "  app.add_handler(CallbackQueryHandler(room_selection_button))\n",
        "\n",
        "  # Messages\n",
        "  app.add_handler(MessageHandler(filters.TEXT, handle_message))\n",
        "\n",
        "  # Errors\n",
        "  app.add_error_handler(error)\n",
        "\n",
        "  # Polls the bot\n",
        "  print('polling...')\n",
        "\n",
        "  app.run_polling()"
      ]
    },
    {
      "cell_type": "markdown",
      "metadata": {
        "id": "Cn72Oz361E0t"
      },
      "source": [
        "## Now time for Respose\n",
        "here we can add anything that we call functionality, like AI, or the functions of actions"
      ]
    },
    {
      "cell_type": "code",
      "execution_count": null,
      "metadata": {
        "id": "1QfsYeosr2dh"
      },
      "outputs": [],
      "source": []
    },
    {
      "cell_type": "code",
      "execution_count": null,
      "metadata": {
        "id": "SqYlXquMEoax"
      },
      "outputs": [],
      "source": []
    }
  ],
  "metadata": {
    "colab": {
      "provenance": [],
      "authorship_tag": "ABX9TyNJbO8nhQfZyPrh0eTDJY/O",
      "include_colab_link": true
    },
    "kernelspec": {
      "display_name": "Python 3",
      "name": "python3"
    },
    "language_info": {
      "name": "python"
    }
  },
  "nbformat": 4,
  "nbformat_minor": 0
}